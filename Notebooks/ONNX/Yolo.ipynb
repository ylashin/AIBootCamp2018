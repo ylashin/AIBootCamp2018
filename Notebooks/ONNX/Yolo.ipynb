{
 "cells": [
  {
   "cell_type": "code",
   "execution_count": 1,
   "metadata": {},
   "outputs": [],
   "source": [
    "import onnx"
   ]
  },
  {
   "cell_type": "code",
   "execution_count": 2,
   "metadata": {},
   "outputs": [
    {
     "name": "stdout",
     "output_type": "stream",
     "text": [
      "model.onnx\n"
     ]
    }
   ],
   "source": [
    "! ls model.onnx"
   ]
  },
  {
   "cell_type": "code",
   "execution_count": 3,
   "metadata": {},
   "outputs": [
    {
     "name": "stdout",
     "output_type": "stream",
     "text": [
      "SDK version: 1.0.2\n"
     ]
    }
   ],
   "source": [
    "# Check core SDK version number\n",
    "import azureml.core\n",
    "\n",
    "print(\"SDK version:\", azureml.core.VERSION)"
   ]
  },
  {
   "cell_type": "code",
   "execution_count": 4,
   "metadata": {},
   "outputs": [
    {
     "name": "stdout",
     "output_type": "stream",
     "text": [
      "Loaded workspace: WORKSPACE_NAME\n"
     ]
    }
   ],
   "source": [
    "import azureml.core\n",
    "from azureml.core import Experiment\n",
    "from azureml.core import Workspace\n",
    "from azureml.core.authentication import ServicePrincipalAuthentication\n",
    "from azureml.core.runconfig import RunConfiguration\n",
    "from azureml.core import ScriptRunConfig\n",
    "\n",
    "spAuth = ServicePrincipalAuthentication(\n",
    "    tenant_id=\"TENANT_ID\",\n",
    "    username=\"SERVICE_PRINCIPAL_ID\", \n",
    "    password=\"SERVICE_PRINCIPAL_PASSWORD\")\n",
    "\n",
    "subscription_id = \"SUBSCRIPTION_ID\"\n",
    "resource_group = \"RESOURCE_GROUP_NAME\"\n",
    "workspace_name = \"WORKSPACE_NAME\"\n",
    "\n",
    "ws = Workspace(auth=spAuth, subscription_id = subscription_id, resource_group = resource_group, workspace_name = workspace_name)\n",
    "print(\"Loaded workspace: \" + ws.name)"
   ]
  },
  {
   "cell_type": "code",
   "execution_count": 5,
   "metadata": {},
   "outputs": [
    {
     "name": "stdout",
     "output_type": "stream",
     "text": [
      "Registering model tiny_yolov2\n"
     ]
    }
   ],
   "source": [
    "from azureml.core.model import Model\n",
    "\n",
    "model = Model.register(model_path = \"./model.onnx\",\n",
    "                       model_name = \"tiny_yolov2\",\n",
    "                       tags = {\"onnx\": \"demo\"},\n",
    "                       description = \"Tiny YOLO model\",\n",
    "                       workspace = ws)"
   ]
  },
  {
   "cell_type": "code",
   "execution_count": 6,
   "metadata": {},
   "outputs": [
    {
     "name": "stdout",
     "output_type": "stream",
     "text": [
      "Writing score.py\n"
     ]
    }
   ],
   "source": [
    "%%writefile score.py\n",
    "import json\n",
    "import numpy as np\n",
    "import onnxruntime\n",
    "import sys\n",
    "import os\n",
    "from azureml.core.model import Model\n",
    "import time\n",
    "from json_tricks import dumps\n",
    "\n",
    "def init():\n",
    "    global session, input_name, output_name\n",
    "        \n",
    "    model = Model.get_model_path(model_name = 'tiny_yolov2')\n",
    "    session = onnxruntime.InferenceSession(model, None)\n",
    "    \n",
    "    input_name = session.get_inputs()[0].name\n",
    "    output_name = session.get_outputs()[0].name \n",
    "    \n",
    "def run(input_data):\n",
    "    try:\n",
    "        # load in our data, convert to readable format\n",
    "        data = np.array(json.loads(input_data)['data']).astype('float32')\n",
    "\n",
    "        r = session.run([output_name], {input_name: data})[0]\n",
    "\n",
    "        serialised = dumps(r)\n",
    "        result_dict = {\"result\": serialised}\n",
    "        \n",
    "    except Exception as e:\n",
    "        result_dict = json.dumps({\"error\": str(e)})\n",
    "    return result_dict"
   ]
  },
  {
   "cell_type": "code",
   "execution_count": 7,
   "metadata": {},
   "outputs": [],
   "source": [
    "from azureml.core.conda_dependencies import CondaDependencies\n",
    "\n",
    "myenv = CondaDependencies()\n",
    "myenv.add_pip_package(\"numpy\")\n",
    "myenv.add_pip_package(\"azureml-core\")\n",
    "myenv.add_pip_package(\"onnxruntime\")\n",
    "myenv.add_pip_package(\"json-tricks\")\n",
    "with open(\"myenv.yml\",\"w\") as f:\n",
    "    f.write(myenv.serialize_to_string())"
   ]
  },
  {
   "cell_type": "code",
   "execution_count": 8,
   "metadata": {},
   "outputs": [
    {
     "name": "stdout",
     "output_type": "stream",
     "text": [
      "Creating image\n",
      "Running...................\n",
      "SucceededImage creation operation finished for image yoloimage:11, operation \"Succeeded\"\n"
     ]
    }
   ],
   "source": [
    "from azureml.core.image import ContainerImage\n",
    "\n",
    "image_config = ContainerImage.image_configuration(execution_script = \"score.py\",\n",
    "                                                  runtime = \"python\",\n",
    "                                                  conda_file = \"myenv.yml\",\n",
    "                                                  description = \"A container image to host YOLO model\",\n",
    "                                                  tags = {\"demo\": \"onnx\"})\n",
    "image = ContainerImage.create(name = \"yoloimage\",\n",
    "                              models = [model],\n",
    "                              image_config = image_config,\n",
    "                              workspace = ws)\n",
    "\n",
    "image.wait_for_creation(show_output = True)"
   ]
  },
  {
   "cell_type": "code",
   "execution_count": 9,
   "metadata": {},
   "outputs": [
    {
     "name": "stdout",
     "output_type": "stream",
     "text": [
      "https://eastus2ice.blob.core.windows.net/logs/WORKSPACE_NAME3353554584_e5040f62703947db929516aef27f56c9.txt?se=2019-01-14T05%3A49%3A06Z&sv=2017-04-17&sig=piiYUSFR1PQ/w3WQ%2BUaQereNdl86Msi8S2nP3QUn7A4%3D&sp=r&sr=b\n"
     ]
    }
   ],
   "source": [
    "print(image.image_build_log_uri)"
   ]
  },
  {
   "cell_type": "code",
   "execution_count": 10,
   "metadata": {},
   "outputs": [],
   "source": [
    "from azureml.core.webservice import AciWebservice\n",
    "\n",
    "aciconfig = AciWebservice.deploy_configuration(cpu_cores = 2, \n",
    "                                               memory_gb = 4, \n",
    "                                               tags = {'demo': 'onnx'}, \n",
    "                                               description = 'ONNX for yolo model')"
   ]
  },
  {
   "cell_type": "code",
   "execution_count": 11,
   "metadata": {},
   "outputs": [
    {
     "name": "stdout",
     "output_type": "stream",
     "text": [
      "Creating service\n",
      "Running.........\n",
      "SucceededACI service creation operation finished, operation \"Succeeded\"\n",
      "Healthy\n"
     ]
    }
   ],
   "source": [
    "from azureml.core.webservice import Webservice\n",
    "\n",
    "aci_service_name = 'onnx-demo-yolo'\n",
    "aci_service = Webservice.deploy_from_image(deployment_config = aciconfig,\n",
    "                                           image = image,\n",
    "                                           name = aci_service_name,\n",
    "                                           workspace = ws)\n",
    "aci_service.wait_for_deployment(True)\n",
    "\n",
    "print(aci_service.state)"
   ]
  },
  {
   "cell_type": "code",
   "execution_count": 12,
   "metadata": {},
   "outputs": [
    {
     "name": "stdout",
     "output_type": "stream",
     "text": [
      "http://13.68.226.236:80/score\n"
     ]
    }
   ],
   "source": [
    "print(aci_service.scoring_uri)"
   ]
  },
  {
   "cell_type": "code",
   "execution_count": null,
   "metadata": {},
   "outputs": [],
   "source": []
  }
 ],
 "metadata": {
  "kernelspec": {
   "display_name": "Python 3",
   "language": "python",
   "name": "python3"
  },
  "language_info": {
   "codemirror_mode": {
    "name": "ipython",
    "version": 3
   },
   "file_extension": ".py",
   "mimetype": "text/x-python",
   "name": "python",
   "nbconvert_exporter": "python",
   "pygments_lexer": "ipython3",
   "version": "3.6.6"
  }
 },
 "nbformat": 4,
 "nbformat_minor": 2
}
